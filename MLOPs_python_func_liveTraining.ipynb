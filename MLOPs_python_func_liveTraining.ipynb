{
  "nbformat": 4,
  "nbformat_minor": 0,
  "metadata": {
    "colab": {
      "provenance": []
    },
    "kernelspec": {
      "name": "python3",
      "display_name": "Python 3"
    },
    "language_info": {
      "name": "python"
    }
  },
  "cells": [
    {
      "cell_type": "markdown",
      "source": [
        "## This notebook is to create and test the pythin functions to learb CI/CD functionality"
      ],
      "metadata": {
        "id": "-znM_Mnh45hl"
      }
    },
    {
      "cell_type": "code",
      "source": [
        "print(\"hello World!\")"
      ],
      "metadata": {
        "colab": {
          "base_uri": "https://localhost:8080/"
        },
        "id": "1MyNIDUc5at3",
        "outputId": "54600efc-ef69-4453-fe05-182196a2348b"
      },
      "execution_count": 2,
      "outputs": [
        {
          "output_type": "stream",
          "name": "stdout",
          "text": [
            "hello World!\n"
          ]
        }
      ]
    },
    {
      "cell_type": "code",
      "source": [
        "test_dict = {\n",
        "    \"name\": 'Chakresh',\n",
        "    \"age\" : 33,\n",
        "    \"location\": 'Germany'\n",
        "}"
      ],
      "metadata": {
        "id": "oDtG5inJ5hyh"
      },
      "execution_count": 7,
      "outputs": []
    },
    {
      "cell_type": "code",
      "source": [
        "'''\n",
        "  dict.get(key,default) - this returns the value if the key is in the dictionary else returns default\n",
        "'''\n",
        "test_dict.get('place',test_dict['location']) ## check for \"place\" in the dictionary else return value at the \"location\" key"
      ],
      "metadata": {
        "colab": {
          "base_uri": "https://localhost:8080/",
          "height": 35
        },
        "id": "H3beiQcl6yZG",
        "outputId": "22614b1b-b378-437b-cf49-18f37b9f4199"
      },
      "execution_count": 11,
      "outputs": [
        {
          "output_type": "execute_result",
          "data": {
            "text/plain": [
              "'Germany'"
            ],
            "application/vnd.google.colaboratory.intrinsic+json": {
              "type": "string"
            }
          },
          "metadata": {},
          "execution_count": 11
        }
      ]
    },
    {
      "cell_type": "code",
      "source": [],
      "metadata": {
        "id": "AQ-eWqbH6-CU"
      },
      "execution_count": null,
      "outputs": []
    }
  ]
}