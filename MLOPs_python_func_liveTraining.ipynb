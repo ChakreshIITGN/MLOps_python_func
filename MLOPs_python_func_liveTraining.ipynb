{
  "nbformat": 4,
  "nbformat_minor": 0,
  "metadata": {
    "colab": {
      "provenance": [],
      "authorship_tag": "ABX9TyMTi3nvb1uaNeX5EwdTdEMQ",
      "include_colab_link": true
    },
    "kernelspec": {
      "name": "python3",
      "display_name": "Python 3"
    },
    "language_info": {
      "name": "python"
    }
  },
  "cells": [
    {
      "cell_type": "markdown",
      "metadata": {
        "id": "view-in-github",
        "colab_type": "text"
      },
      "source": [
        "<a href=\"https://colab.research.google.com/github/ChakreshIITGN/MLOps_python_func/blob/main/MLOPs_python_func_liveTraining.ipynb\" target=\"_parent\"><img src=\"https://colab.research.google.com/assets/colab-badge.svg\" alt=\"Open In Colab\"/></a>"
      ]
    },
    {
      "cell_type": "markdown",
      "source": [
        "## This notebook is to create and test the pythin functions to learb CI/CD functionality"
      ],
      "metadata": {
        "id": "-znM_Mnh45hl"
      }
    },
    {
      "cell_type": "code",
      "source": [
        "print(\"hello World!\")"
      ],
      "metadata": {
        "colab": {
          "base_uri": "https://localhost:8080/"
        },
        "id": "1MyNIDUc5at3",
        "outputId": "54600efc-ef69-4453-fe05-182196a2348b"
      },
      "execution_count": 2,
      "outputs": [
        {
          "output_type": "stream",
          "name": "stdout",
          "text": [
            "hello World!\n"
          ]
        }
      ]
    },
    {
      "cell_type": "code",
      "source": [],
      "metadata": {
        "id": "oDtG5inJ5hyh"
      },
      "execution_count": null,
      "outputs": []
    }
  ]
}